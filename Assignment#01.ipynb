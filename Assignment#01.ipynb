{
 "cells": [
  {
   "cell_type": "code",
   "execution_count": 20,
   "id": "f35c38f5",
   "metadata": {},
   "outputs": [
    {
     "name": "stdout",
     "output_type": "stream",
     "text": [
      "Twinkle,twinkle,little,star,\n",
      "\tHow I wonder what you are!\n",
      "\t\tUp above the world so high\n",
      "\t\tlike a diamond in the sky\n",
      "Twinkle,twinkle,little,star,\n",
      "\tHow I wonder what you are\n"
     ]
    }
   ],
   "source": [
    "a = (\"Twinkle,twinkle,little,star,\\n\\tHow I wonder what you are!\\n\\t\\tUp above the world so high\\n\\t\\tlike a diamond in the sky\\nTwinkle,twinkle,little,star,\\n\\tHow I wonder what you are\");\n",
    "\n",
    "print(a)"
   ]
  },
  {
   "cell_type": "code",
   "execution_count": 21,
   "id": "2d062b17",
   "metadata": {},
   "outputs": [
    {
     "name": "stdout",
     "output_type": "stream",
     "text": [
      "3.9.7 (default, Sep 16 2021, 16:59:28) [MSC v.1916 64 bit (AMD64)]\n"
     ]
    }
   ],
   "source": [
    "import sys\n",
    "print(sys.version)"
   ]
  },
  {
   "cell_type": "code",
   "execution_count": 22,
   "id": "83cf0298",
   "metadata": {},
   "outputs": [
    {
     "name": "stdout",
     "output_type": "stream",
     "text": [
      "Current date and time : \n",
      "2022-01-03 21:37:52\n"
     ]
    }
   ],
   "source": [
    "import datetime\n",
    "now = datetime.datetime.now()\n",
    "print (\"Current date and time : \")\n",
    "print (now.strftime(\"%Y-%m-%d %H:%M:%S\"))"
   ]
  },
  {
   "cell_type": "code",
   "execution_count": 23,
   "id": "0ebeef80",
   "metadata": {},
   "outputs": [
    {
     "name": "stdout",
     "output_type": "stream",
     "text": [
      "Input the radius of the circle : 8\n",
      "The area of the circle with radius 8.0 is: 201.06192982974676\n"
     ]
    }
   ],
   "source": [
    "from math import pi\n",
    "r = float(input (\"Input the radius of the circle : \")) \n",
    "calculateArea = str(pi * r**2);\n",
    "print (\"The area of the circle with radius \" + str(r) + \" is: \" + calculateArea)"
   ]
  },
  {
   "cell_type": "code",
   "execution_count": 24,
   "id": "41ed8d29",
   "metadata": {},
   "outputs": [
    {
     "name": "stdout",
     "output_type": "stream",
     "text": [
      "First Name: Shafi\n",
      "Last Name: Khan\n",
      "Khan Shafi\n"
     ]
    }
   ],
   "source": [
    "f = str(input(\"First Name: \"))\n",
    "l = str(input(\"Last Name: \"))\n",
    "\n",
    "print(\"\"+ l + \" \" + f)"
   ]
  },
  {
   "cell_type": "code",
   "execution_count": 25,
   "id": "f4e93d18",
   "metadata": {},
   "outputs": [
    {
     "name": "stdout",
     "output_type": "stream",
     "text": [
      "3\n",
      "4\n",
      "Total = 7\n"
     ]
    }
   ],
   "source": [
    "a = int(input())\n",
    "b = int(input())\n",
    "print(\"Total =\",a+b)"
   ]
  },
  {
   "cell_type": "code",
   "execution_count": null,
   "id": "520e2852",
   "metadata": {},
   "outputs": [],
   "source": []
  }
 ],
 "metadata": {
  "kernelspec": {
   "display_name": "Python 3 (ipykernel)",
   "language": "python",
   "name": "python3"
  },
  "language_info": {
   "codemirror_mode": {
    "name": "ipython",
    "version": 3
   },
   "file_extension": ".py",
   "mimetype": "text/x-python",
   "name": "python",
   "nbconvert_exporter": "python",
   "pygments_lexer": "ipython3",
   "version": "3.9.7"
  }
 },
 "nbformat": 4,
 "nbformat_minor": 5
}
